{
 "cells": [
  {
   "cell_type": "markdown",
   "id": "cd1a71b4-580e-4be8-9cde-73ffa0e52908",
   "metadata": {},
   "source": [
    "# Amazon Forest Analysis"
   ]
  },
  {
   "cell_type": "markdown",
   "id": "9a0924b4-ec02-45b2-85fb-4d061e8d82f7",
   "metadata": {},
   "source": [
    "## Introduction"
   ]
  },
  {
   "cell_type": "markdown",
   "id": "bc5a63ce-5a99-4ddb-9512-cf5995968618",
   "metadata": {},
   "source": [
    "##### The Amazon Rainforest, often referred to as the \"Lungs of the Earth,\" is one of the most biologically diverse and ecologically vital ecosystems on our planet. Spanning nine South American countries, including Brazil, Peru, Colombia and Venezuela\n",
    "\n",
    "##### The Amazon Rainforest is an awe-inspiring natural wonder that covers approximately 5.5 million square kilometers, making it the largest tropical rainforest in the world.\n",
    "##### It is Situated predominantly in the Amazon Basin. The rainforest extends across Brazil, where the largest portion lies, and extends into neighboring countries in South America. Its geographic expanse is immense, reaching from the Atlantic Ocean in the east to the Andes Mountains in the west.\n",
    "##### The Amazon's ecological importance cannot be overstated. Its complex web of life, from the towering canopy down to the forest floor, is a critical component of the Earth's biosphere. It helps maintain global climate stability, supports a wide range of ecological interactions, and sustains a vast array of species.\n",
    "\n",
    "#### My Objectives are to get the answers to the questions: \n",
    "##### Rename month names from Portuguese to English\n",
    "##### Which month maximum number of forest fires were reported and visualize them\n",
    "##### Which Year maximum number of forest fires were reported and visualize them\n",
    "##### Which states maximum number of forest fires were reported and visualize\n",
    "##### Find the total number of fires reported in the Amazonas\n",
    "##### Display number of fires reported in Amazonas (year-wise) and visualize \n",
    "##### Display number of fires reported in Amazonas (day-wise) and visualize \n",
    "##### Find the total number of fires that were reported in 2015 and visualize based on each month\n",
    "##### Average number of fires reported from highest to lowest(state-wise) and visualize\n",
    "##### Find the states where fires were reported in Dec month."
   ]
  },
  {
   "cell_type": "markdown",
   "id": "75a55d0f-7643-4c9c-8352-c583ac5c52c9",
   "metadata": {},
   "source": [
    "## Import Libraries"
   ]
  },
  {
   "cell_type": "code",
   "execution_count": 1,
   "id": "367a9c62-5758-4d25-b822-5c8c5f7422ea",
   "metadata": {
    "tags": []
   },
   "outputs": [],
   "source": [
    "import numpy as np\n",
    "import pandas as pd\n",
    "import matplotlib.pyplot as plt\n",
    "import seaborn as sns"
   ]
  },
  {
   "cell_type": "code",
   "execution_count": 2,
   "id": "0fd1473e-ca0b-4746-a0e6-481431a4699e",
   "metadata": {
    "tags": []
   },
   "outputs": [
    {
     "data": {
      "text/html": [
       "<div>\n",
       "<style scoped>\n",
       "    .dataframe tbody tr th:only-of-type {\n",
       "        vertical-align: middle;\n",
       "    }\n",
       "\n",
       "    .dataframe tbody tr th {\n",
       "        vertical-align: top;\n",
       "    }\n",
       "\n",
       "    .dataframe thead th {\n",
       "        text-align: right;\n",
       "    }\n",
       "</style>\n",
       "<table border=\"1\" class=\"dataframe\">\n",
       "  <thead>\n",
       "    <tr style=\"text-align: right;\">\n",
       "      <th></th>\n",
       "      <th>year</th>\n",
       "      <th>state</th>\n",
       "      <th>month</th>\n",
       "      <th>number</th>\n",
       "      <th>date</th>\n",
       "    </tr>\n",
       "  </thead>\n",
       "  <tbody>\n",
       "    <tr>\n",
       "      <th>0</th>\n",
       "      <td>1998</td>\n",
       "      <td>Acre</td>\n",
       "      <td>Janeiro</td>\n",
       "      <td>0.0</td>\n",
       "      <td>1998-01-01</td>\n",
       "    </tr>\n",
       "    <tr>\n",
       "      <th>1</th>\n",
       "      <td>1999</td>\n",
       "      <td>Acre</td>\n",
       "      <td>Janeiro</td>\n",
       "      <td>0.0</td>\n",
       "      <td>1999-01-01</td>\n",
       "    </tr>\n",
       "    <tr>\n",
       "      <th>2</th>\n",
       "      <td>2000</td>\n",
       "      <td>Acre</td>\n",
       "      <td>Janeiro</td>\n",
       "      <td>0.0</td>\n",
       "      <td>2000-01-01</td>\n",
       "    </tr>\n",
       "    <tr>\n",
       "      <th>3</th>\n",
       "      <td>2001</td>\n",
       "      <td>Acre</td>\n",
       "      <td>Janeiro</td>\n",
       "      <td>0.0</td>\n",
       "      <td>2001-01-01</td>\n",
       "    </tr>\n",
       "    <tr>\n",
       "      <th>4</th>\n",
       "      <td>2002</td>\n",
       "      <td>Acre</td>\n",
       "      <td>Janeiro</td>\n",
       "      <td>0.0</td>\n",
       "      <td>2002-01-01</td>\n",
       "    </tr>\n",
       "    <tr>\n",
       "      <th>...</th>\n",
       "      <td>...</td>\n",
       "      <td>...</td>\n",
       "      <td>...</td>\n",
       "      <td>...</td>\n",
       "      <td>...</td>\n",
       "    </tr>\n",
       "    <tr>\n",
       "      <th>6449</th>\n",
       "      <td>2012</td>\n",
       "      <td>Tocantins</td>\n",
       "      <td>Dezembro</td>\n",
       "      <td>128.0</td>\n",
       "      <td>2012-01-01</td>\n",
       "    </tr>\n",
       "    <tr>\n",
       "      <th>6450</th>\n",
       "      <td>2013</td>\n",
       "      <td>Tocantins</td>\n",
       "      <td>Dezembro</td>\n",
       "      <td>85.0</td>\n",
       "      <td>2013-01-01</td>\n",
       "    </tr>\n",
       "    <tr>\n",
       "      <th>6451</th>\n",
       "      <td>2014</td>\n",
       "      <td>Tocantins</td>\n",
       "      <td>Dezembro</td>\n",
       "      <td>223.0</td>\n",
       "      <td>2014-01-01</td>\n",
       "    </tr>\n",
       "    <tr>\n",
       "      <th>6452</th>\n",
       "      <td>2015</td>\n",
       "      <td>Tocantins</td>\n",
       "      <td>Dezembro</td>\n",
       "      <td>373.0</td>\n",
       "      <td>2015-01-01</td>\n",
       "    </tr>\n",
       "    <tr>\n",
       "      <th>6453</th>\n",
       "      <td>2016</td>\n",
       "      <td>Tocantins</td>\n",
       "      <td>Dezembro</td>\n",
       "      <td>119.0</td>\n",
       "      <td>2016-01-01</td>\n",
       "    </tr>\n",
       "  </tbody>\n",
       "</table>\n",
       "<p>6454 rows × 5 columns</p>\n",
       "</div>"
      ],
      "text/plain": [
       "      year      state     month  number        date\n",
       "0     1998       Acre   Janeiro     0.0  1998-01-01\n",
       "1     1999       Acre   Janeiro     0.0  1999-01-01\n",
       "2     2000       Acre   Janeiro     0.0  2000-01-01\n",
       "3     2001       Acre   Janeiro     0.0  2001-01-01\n",
       "4     2002       Acre   Janeiro     0.0  2002-01-01\n",
       "...    ...        ...       ...     ...         ...\n",
       "6449  2012  Tocantins  Dezembro   128.0  2012-01-01\n",
       "6450  2013  Tocantins  Dezembro    85.0  2013-01-01\n",
       "6451  2014  Tocantins  Dezembro   223.0  2014-01-01\n",
       "6452  2015  Tocantins  Dezembro   373.0  2015-01-01\n",
       "6453  2016  Tocantins  Dezembro   119.0  2016-01-01\n",
       "\n",
       "[6454 rows x 5 columns]"
      ]
     },
     "execution_count": 2,
     "metadata": {},
     "output_type": "execute_result"
    }
   ],
   "source": [
    "df = pd.read_csv(r\"C:\\Users\\Inioluwa Akintunlaji\\Downloads\\amazon.csv\", encoding='latin1')\n",
    "df"
   ]
  },
  {
   "cell_type": "markdown",
   "id": "a36e494d-d0b1-45b2-973f-16e8f588b717",
   "metadata": {},
   "source": [
    "## Rename month names from Portuguese to English"
   ]
  },
  {
   "cell_type": "code",
   "execution_count": 3,
   "id": "170e339b-bd36-41a7-9d42-e5209650d85b",
   "metadata": {
    "tags": []
   },
   "outputs": [
    {
     "data": {
      "text/html": [
       "<div>\n",
       "<style scoped>\n",
       "    .dataframe tbody tr th:only-of-type {\n",
       "        vertical-align: middle;\n",
       "    }\n",
       "\n",
       "    .dataframe tbody tr th {\n",
       "        vertical-align: top;\n",
       "    }\n",
       "\n",
       "    .dataframe thead th {\n",
       "        text-align: right;\n",
       "    }\n",
       "</style>\n",
       "<table border=\"1\" class=\"dataframe\">\n",
       "  <thead>\n",
       "    <tr style=\"text-align: right;\">\n",
       "      <th></th>\n",
       "      <th>year</th>\n",
       "      <th>state</th>\n",
       "      <th>month</th>\n",
       "      <th>number</th>\n",
       "      <th>date</th>\n",
       "    </tr>\n",
       "  </thead>\n",
       "  <tbody>\n",
       "    <tr>\n",
       "      <th>0</th>\n",
       "      <td>1998</td>\n",
       "      <td>Acre</td>\n",
       "      <td>January</td>\n",
       "      <td>0.0</td>\n",
       "      <td>1998-01-01</td>\n",
       "    </tr>\n",
       "    <tr>\n",
       "      <th>1</th>\n",
       "      <td>1999</td>\n",
       "      <td>Acre</td>\n",
       "      <td>January</td>\n",
       "      <td>0.0</td>\n",
       "      <td>1999-01-01</td>\n",
       "    </tr>\n",
       "    <tr>\n",
       "      <th>2</th>\n",
       "      <td>2000</td>\n",
       "      <td>Acre</td>\n",
       "      <td>January</td>\n",
       "      <td>0.0</td>\n",
       "      <td>2000-01-01</td>\n",
       "    </tr>\n",
       "    <tr>\n",
       "      <th>3</th>\n",
       "      <td>2001</td>\n",
       "      <td>Acre</td>\n",
       "      <td>January</td>\n",
       "      <td>0.0</td>\n",
       "      <td>2001-01-01</td>\n",
       "    </tr>\n",
       "    <tr>\n",
       "      <th>4</th>\n",
       "      <td>2002</td>\n",
       "      <td>Acre</td>\n",
       "      <td>January</td>\n",
       "      <td>0.0</td>\n",
       "      <td>2002-01-01</td>\n",
       "    </tr>\n",
       "    <tr>\n",
       "      <th>...</th>\n",
       "      <td>...</td>\n",
       "      <td>...</td>\n",
       "      <td>...</td>\n",
       "      <td>...</td>\n",
       "      <td>...</td>\n",
       "    </tr>\n",
       "    <tr>\n",
       "      <th>6449</th>\n",
       "      <td>2012</td>\n",
       "      <td>Tocantins</td>\n",
       "      <td>December</td>\n",
       "      <td>128.0</td>\n",
       "      <td>2012-01-01</td>\n",
       "    </tr>\n",
       "    <tr>\n",
       "      <th>6450</th>\n",
       "      <td>2013</td>\n",
       "      <td>Tocantins</td>\n",
       "      <td>December</td>\n",
       "      <td>85.0</td>\n",
       "      <td>2013-01-01</td>\n",
       "    </tr>\n",
       "    <tr>\n",
       "      <th>6451</th>\n",
       "      <td>2014</td>\n",
       "      <td>Tocantins</td>\n",
       "      <td>December</td>\n",
       "      <td>223.0</td>\n",
       "      <td>2014-01-01</td>\n",
       "    </tr>\n",
       "    <tr>\n",
       "      <th>6452</th>\n",
       "      <td>2015</td>\n",
       "      <td>Tocantins</td>\n",
       "      <td>December</td>\n",
       "      <td>373.0</td>\n",
       "      <td>2015-01-01</td>\n",
       "    </tr>\n",
       "    <tr>\n",
       "      <th>6453</th>\n",
       "      <td>2016</td>\n",
       "      <td>Tocantins</td>\n",
       "      <td>December</td>\n",
       "      <td>119.0</td>\n",
       "      <td>2016-01-01</td>\n",
       "    </tr>\n",
       "  </tbody>\n",
       "</table>\n",
       "<p>6454 rows × 5 columns</p>\n",
       "</div>"
      ],
      "text/plain": [
       "      year      state     month  number        date\n",
       "0     1998       Acre   January     0.0  1998-01-01\n",
       "1     1999       Acre   January     0.0  1999-01-01\n",
       "2     2000       Acre   January     0.0  2000-01-01\n",
       "3     2001       Acre   January     0.0  2001-01-01\n",
       "4     2002       Acre   January     0.0  2002-01-01\n",
       "...    ...        ...       ...     ...         ...\n",
       "6449  2012  Tocantins  December   128.0  2012-01-01\n",
       "6450  2013  Tocantins  December    85.0  2013-01-01\n",
       "6451  2014  Tocantins  December   223.0  2014-01-01\n",
       "6452  2015  Tocantins  December   373.0  2015-01-01\n",
       "6453  2016  Tocantins  December   119.0  2016-01-01\n",
       "\n",
       "[6454 rows x 5 columns]"
      ]
     },
     "execution_count": 3,
     "metadata": {},
     "output_type": "execute_result"
    }
   ],
   "source": [
    "# Create a dictionary to map Portuguese month names to English\n",
    "month_mapping = {\n",
    "    'Janeiro': 'January','Fevereiro': 'February','Março':'March','Abril':'April', 'Maio':'May', 'Junho':'June', 'Julho':'July',\n",
    "    'Agosto':'August', 'Setembro':'September', 'Outubro':'October', 'Novembro':'November', 'Dezembro':'December'}\n",
    "\n",
    "df = pd.read_csv(r\"C:\\Users\\Inioluwa Akintunlaji\\Downloads\\amazon.csv\", encoding='latin1')\n",
    "\n",
    "# Apply the mapping to the 'month' column\n",
    "df['month'] = df['month'].map(month_mapping)\n",
    "df\n"
   ]
  },
  {
   "cell_type": "markdown",
   "id": "c03d6c6c-0dfe-48d0-802e-8696e920dede",
   "metadata": {},
   "source": [
    "## Information about the given data"
   ]
  },
  {
   "cell_type": "code",
   "execution_count": 4,
   "id": "0022c9ab-2ca5-4e36-80be-9ab6dddcdf8d",
   "metadata": {
    "tags": []
   },
   "outputs": [
    {
     "name": "stdout",
     "output_type": "stream",
     "text": [
      "<class 'pandas.core.frame.DataFrame'>\n",
      "RangeIndex: 6454 entries, 0 to 6453\n",
      "Data columns (total 5 columns):\n",
      " #   Column  Non-Null Count  Dtype  \n",
      "---  ------  --------------  -----  \n",
      " 0   year    6454 non-null   int64  \n",
      " 1   state   6454 non-null   object \n",
      " 2   month   6454 non-null   object \n",
      " 3   number  6454 non-null   float64\n",
      " 4   date    6454 non-null   object \n",
      "dtypes: float64(1), int64(1), object(3)\n",
      "memory usage: 252.2+ KB\n"
     ]
    }
   ],
   "source": [
    "df.info()"
   ]
  },
  {
   "cell_type": "code",
   "execution_count": 5,
   "id": "8e95347d-b400-42e0-85ae-79839db2439e",
   "metadata": {
    "tags": []
   },
   "outputs": [
    {
     "data": {
      "text/html": [
       "<div>\n",
       "<style scoped>\n",
       "    .dataframe tbody tr th:only-of-type {\n",
       "        vertical-align: middle;\n",
       "    }\n",
       "\n",
       "    .dataframe tbody tr th {\n",
       "        vertical-align: top;\n",
       "    }\n",
       "\n",
       "    .dataframe thead th {\n",
       "        text-align: right;\n",
       "    }\n",
       "</style>\n",
       "<table border=\"1\" class=\"dataframe\">\n",
       "  <thead>\n",
       "    <tr style=\"text-align: right;\">\n",
       "      <th></th>\n",
       "      <th>year</th>\n",
       "      <th>number</th>\n",
       "    </tr>\n",
       "  </thead>\n",
       "  <tbody>\n",
       "    <tr>\n",
       "      <th>count</th>\n",
       "      <td>6454.000000</td>\n",
       "      <td>6454.000000</td>\n",
       "    </tr>\n",
       "    <tr>\n",
       "      <th>mean</th>\n",
       "      <td>2007.461729</td>\n",
       "      <td>108.293163</td>\n",
       "    </tr>\n",
       "    <tr>\n",
       "      <th>std</th>\n",
       "      <td>5.746654</td>\n",
       "      <td>190.812242</td>\n",
       "    </tr>\n",
       "    <tr>\n",
       "      <th>min</th>\n",
       "      <td>1998.000000</td>\n",
       "      <td>0.000000</td>\n",
       "    </tr>\n",
       "    <tr>\n",
       "      <th>25%</th>\n",
       "      <td>2002.000000</td>\n",
       "      <td>3.000000</td>\n",
       "    </tr>\n",
       "    <tr>\n",
       "      <th>50%</th>\n",
       "      <td>2007.000000</td>\n",
       "      <td>24.000000</td>\n",
       "    </tr>\n",
       "    <tr>\n",
       "      <th>75%</th>\n",
       "      <td>2012.000000</td>\n",
       "      <td>113.000000</td>\n",
       "    </tr>\n",
       "    <tr>\n",
       "      <th>max</th>\n",
       "      <td>2017.000000</td>\n",
       "      <td>998.000000</td>\n",
       "    </tr>\n",
       "  </tbody>\n",
       "</table>\n",
       "</div>"
      ],
      "text/plain": [
       "              year       number\n",
       "count  6454.000000  6454.000000\n",
       "mean   2007.461729   108.293163\n",
       "std       5.746654   190.812242\n",
       "min    1998.000000     0.000000\n",
       "25%    2002.000000     3.000000\n",
       "50%    2007.000000    24.000000\n",
       "75%    2012.000000   113.000000\n",
       "max    2017.000000   998.000000"
      ]
     },
     "execution_count": 5,
     "metadata": {},
     "output_type": "execute_result"
    }
   ],
   "source": [
    "df.describe()"
   ]
  },
  {
   "cell_type": "code",
   "execution_count": 6,
   "id": "643d3129-cd28-44fc-8356-4b0f06c327ee",
   "metadata": {
    "tags": []
   },
   "outputs": [
    {
     "data": {
      "text/plain": [
       "Index(['year', 'state', 'month', 'number', 'date'], dtype='object')"
      ]
     },
     "execution_count": 6,
     "metadata": {},
     "output_type": "execute_result"
    }
   ],
   "source": [
    "df.columns"
   ]
  },
  {
   "cell_type": "code",
   "execution_count": 7,
   "id": "d29ae2d7-bc0c-40f2-82a5-1200c2072299",
   "metadata": {
    "tags": []
   },
   "outputs": [
    {
     "name": "stdout",
     "output_type": "stream",
     "text": [
      "<class 'pandas.core.series.Series'>\n",
      "RangeIndex: 6454 entries, 0 to 6453\n",
      "Series name: year\n",
      "Non-Null Count  Dtype\n",
      "--------------  -----\n",
      "6454 non-null   int64\n",
      "dtypes: int64(1)\n",
      "memory usage: 50.6 KB\n"
     ]
    }
   ],
   "source": [
    "df[\"year\"].info()"
   ]
  },
  {
   "cell_type": "markdown",
   "id": "ef70a48e-95c9-4ee3-94b1-8a6b5fb0ceab",
   "metadata": {},
   "source": [
    "## Which month maximum number of forest fires were reported."
   ]
  },
  {
   "cell_type": "code",
   "execution_count": 8,
   "id": "cb0905e0-cf5f-40db-bd59-243fd7fde9ff",
   "metadata": {
    "tags": []
   },
   "outputs": [
    {
     "name": "stdout",
     "output_type": "stream",
     "text": [
      "Month with the maximum number of forest fires: September\n"
     ]
    }
   ],
   "source": [
    "max_month = df[df['number'] == df['number'].max()]['month'].values[0]\n",
    "print(f'Month with the maximum number of forest fires: {max_month}')"
   ]
  },
  {
   "cell_type": "code",
   "execution_count": 9,
   "id": "c2df69ff-fc00-4217-aeeb-117aafa5e6b9",
   "metadata": {
    "tags": []
   },
   "outputs": [
    {
     "name": "stdout",
     "output_type": "stream",
     "text": [
      "Maximum number of forest fires: 998.0 in September 2008 in Amazonas\n"
     ]
    }
   ],
   "source": [
    "# Find the row with the maximum number of forest fires\n",
    "max_forest_fires_row = df.loc[df['number'].idxmax()]\n",
    "\n",
    "# Extract the relevant information\n",
    "max_forest_fires = max_forest_fires_row['number']\n",
    "year = max_forest_fires_row['year']\n",
    "month = max_forest_fires_row['month']\n",
    "state = max_forest_fires_row['state']\n",
    "\n",
    "\n",
    "print(f\"Maximum number of forest fires: {max_forest_fires} in {month} {year} in {state}\")"
   ]
  },
  {
   "cell_type": "markdown",
   "id": "f28ebdce-e4a3-47ea-9a15-987c8c791105",
   "metadata": {},
   "source": [
    "## Which Year maximum number of forest fires were reported"
   ]
  },
  {
   "cell_type": "code",
   "execution_count": 10,
   "id": "5cec53ac-5be5-4539-9b97-3176cfe36c4d",
   "metadata": {
    "tags": []
   },
   "outputs": [
    {
     "name": "stdout",
     "output_type": "stream",
     "text": [
      "Year with the maximum number of forest fires: 2008\n"
     ]
    }
   ],
   "source": [
    "max_year = df[df['number'] == df['number'].max()]['year'].values[0]\n",
    "print(f'Year with the maximum number of forest fires: {max_year}')"
   ]
  },
  {
   "cell_type": "markdown",
   "id": "26ec2f5f-4edf-4891-b01a-bf6c1c6bb306",
   "metadata": {},
   "source": [
    "## Find the state with the maximum number of forest fires"
   ]
  },
  {
   "cell_type": "code",
   "execution_count": 11,
   "id": "96c562a2-a146-4727-936d-d377657d7239",
   "metadata": {
    "tags": []
   },
   "outputs": [
    {
     "name": "stdout",
     "output_type": "stream",
     "text": [
      "State with the maximum number of forest fires: Amazonas\n"
     ]
    }
   ],
   "source": [
    "max_state = df[df['number'] == df['number'].max()]['state'].values[0]\n",
    "print(f'State with the maximum number of forest fires: {max_state}')\n"
   ]
  },
  {
   "cell_type": "markdown",
   "id": "04887a1a-141d-4d42-be8c-bbec9ca6dc6c",
   "metadata": {},
   "source": [
    "## Find the total number of fires reported in Amazonas"
   ]
  },
  {
   "cell_type": "code",
   "execution_count": 15,
   "id": "8fce3276-2b02-404a-a7ba-ac2a43863e26",
   "metadata": {
    "tags": []
   },
   "outputs": [
    {
     "name": "stdout",
     "output_type": "stream",
     "text": [
      "Total number of fires reported in Amazonas: 30650.129\n"
     ]
    }
   ],
   "source": [
    "amazonas_fires = df[df['state'] == 'Amazonas']['number'].sum()\n",
    "print(f'Total number of fires reported in Amazonas: {amazonas_fires}')\n"
   ]
  },
  {
   "cell_type": "code",
   "execution_count": 16,
   "id": "84740236-c0aa-4ccc-ba63-1f07a3523af2",
   "metadata": {
    "tags": []
   },
   "outputs": [
    {
     "name": "stdout",
     "output_type": "stream",
     "text": [
      "Total number of fires reported in Amazonas: 30650\n"
     ]
    }
   ],
   "source": [
    "amazonas_fires = int(df[df['state'] == 'Amazonas']['number'].sum())\n",
    "print(f'Total number of fires reported in Amazonas: {amazonas_fires}')\n"
   ]
  },
  {
   "cell_type": "markdown",
   "id": "4178629c-4c1f-43c9-8170-7d8d0ec4e1e3",
   "metadata": {},
   "source": [
    "## Display number of fires reported in Amazonas (year-wise) and visualize"
   ]
  },
  {
   "cell_type": "code",
   "execution_count": 21,
   "id": "01bdcce0-6080-4003-a7c1-ee2da1fa6c4c",
   "metadata": {
    "tags": []
   },
   "outputs": [
    {
     "name": "stdout",
     "output_type": "stream",
     "text": [
      "year\n",
      "1998     946.000\n",
      "1999    1061.000\n",
      "2000     853.000\n",
      "2001    1297.000\n",
      "2002    2852.000\n",
      "2003    1524.268\n",
      "2004    2298.207\n",
      "2005    1657.128\n",
      "2006     997.640\n",
      "2007     589.601\n",
      "2008    2717.000\n",
      "2009    1320.601\n",
      "2010    2324.508\n",
      "2011    1652.538\n",
      "2012    1110.641\n",
      "2013     905.217\n",
      "2014    2385.909\n",
      "2015    1189.994\n",
      "2016    2060.972\n",
      "2017     906.905\n",
      "Name: number, dtype: float64\n"
     ]
    }
   ],
   "source": [
    "amazonas_data = df[df['state'] == 'Amazonas']\n",
    "amazonas_yearly_fires = amazonas_data.groupby('year')['number'].sum()\n",
    "\n",
    "print(amazonas_yearly_fires)\n"
   ]
  },
  {
   "cell_type": "code",
   "execution_count": 22,
   "id": "e60c1bf0-f846-499d-916d-b38e255eb1b1",
   "metadata": {
    "tags": []
   },
   "outputs": [
    {
     "data": {
      "image/png": "[encoded data removed]",
      "text/plain": [
       "<Figure size 640x480 with 1 Axes>"
      ]
     },
     "metadata": {},
     "output_type": "display_data"
    }
   ],
   "source": [
    "amazonas_yearly_fires = df[df['state'] == 'Amazonas'].groupby('year')['number'].sum()\n",
    "amazonas_yearly_fires.plot(kind='bar')\n",
    "plt.xlabel('Year')\n",
    "plt.ylabel('Number of Fires')\n",
    "plt.title('Number of Fires Reported in Amazonas (Year-wise)')\n",
    "plt.show()"
   ]
  },
  {
   "cell_type": "markdown",
   "id": "867dee6e-74f8-4b79-a6b8-fabc14421f3a",
   "metadata": {},
   "source": [
    "## Find the total number of fires reported in 2015 and visualize based on each month"
   ]
  },
  {
   "cell_type": "code",
   "execution_count": 29,
   "id": "250625d2-6e61-4b9e-8081-5d519fb201c5",
   "metadata": {
    "tags": []
   },
   "outputs": [
    {
     "name": "stdout",
     "output_type": "stream",
     "text": [
      "Total number of fires reported in 2015: 41208\n"
     ]
    }
   ],
   "source": [
    "# Filter the DataFrame to get data for the year 2015\n",
    "fires_2015_data = df[df['year'] == 2015]\n",
    "\n",
    "# Calculate the total number of fires reported in 2015\n",
    "total_fires_2015 = int(fires_2015_data['number'].sum())\n",
    "\n",
    "print(f'Total number of fires reported in 2015: {total_fires_2015}')"
   ]
  },
  {
   "cell_type": "code",
   "execution_count": 32,
   "id": "351325e0-034e-4ff5-9daf-436a2a04292e",
   "metadata": {
    "tags": []
   },
   "outputs": [
    {
     "name": "stdout",
     "output_type": "stream",
     "text": [
      "month\n",
      "April        2573.000\n",
      "August       4363.125\n",
      "December     4088.522\n",
      "February     2309.000\n",
      "January      4635.000\n",
      "July         4364.392\n",
      "June         3260.552\n",
      "March        2202.000\n",
      "May          2384.000\n",
      "November     4034.518\n",
      "October      4499.525\n",
      "September    2494.658\n",
      "Name: number, dtype: float64\n"
     ]
    }
   ],
   "source": [
    "fires_2015_data = df[df['year'] == 2015]\n",
    "\n",
    "fires_2015_monthly = fires_2015_data.groupby('month')['number'].sum()\n",
    "\n",
    "print(fires_2015_monthly)\n"
   ]
  },
  {
   "cell_type": "code",
   "execution_count": 23,
   "id": "ac1563b7-c58c-490f-9b7f-2736a5a3a937",
   "metadata": {
    "tags": []
   },
   "outputs": [
    {
     "data": {
      "image/png": "[encoded data removed]",
      "text/plain": [
       "<Figure size 640x480 with 1 Axes>"
      ]
     },
     "metadata": {},
     "output_type": "display_data"
    }
   ],
   "source": [
    "fires_2015 = df[df['year'] == 2015].groupby('month')['number'].sum()\n",
    "fires_2015.plot(kind='bar')\n",
    "plt.xlabel('Month')\n",
    "plt.ylabel('Number of Fires')\n",
    "plt.title('Number of Fires Reported in 2015 (Month-wise)')\n",
    "plt.show()"
   ]
  },
  {
   "cell_type": "markdown",
   "id": "c4b8871d-724a-4ec9-88b0-b604d09fda92",
   "metadata": {},
   "source": [
    "## Average number of fires reported from highest to lowest (state-wise) and visualize"
   ]
  },
  {
   "cell_type": "code",
   "execution_count": 34,
   "id": "88945a20-3804-41b8-b107-e25ea8e9fb3f",
   "metadata": {
    "tags": []
   },
   "outputs": [
    {
     "name": "stdout",
     "output_type": "stream",
     "text": [
      "state\n",
      "Sao Paulo           213.896226\n",
      "Mato Grosso         201.351523\n",
      "Bahia               187.222703\n",
      "Piau                158.174674\n",
      "Goias               157.721841\n",
      "Minas Gerais        156.800243\n",
      "Tocantins           141.037176\n",
      "Amazonas            128.243218\n",
      "Ceara               127.314071\n",
      "Paraiba             109.698573\n",
      "Maranhao            105.142808\n",
      "Pará                102.561272\n",
      "Pernambuco          102.502092\n",
      "Roraima             102.029598\n",
      "Santa Catarina      101.924067\n",
      "Amapa                91.345506\n",
      "Rondonia             84.876272\n",
      "Acre                 77.255356\n",
      "Rio                  62.985865\n",
      "Espirito Santo       27.389121\n",
      "Alagoas              19.350000\n",
      "Distrito Federal     14.899582\n",
      "Sergipe              13.543933\n",
      "Name: number, dtype: float64\n"
     ]
    }
   ],
   "source": [
    "average_fires_by_state = df.groupby('state')['number'].mean()\n",
    "\n",
    "# Sort the states by average number of fires in descending order\n",
    "average_fires_by_state = average_fires_by_state.sort_values(ascending=False)\n",
    "\n",
    "print(average_fires_by_state)\n"
   ]
  },
  {
   "cell_type": "code",
   "execution_count": 35,
   "id": "a06df9a4-c70c-430e-abfd-ee5b77ea22fe",
   "metadata": {
    "tags": []
   },
   "outputs": [
    {
     "data": {
      "image/png": "[encoded data removed]",
      "text/plain": [
       "<Figure size 640x480 with 1 Axes>"
      ]
     },
     "metadata": {},
     "output_type": "display_data"
    }
   ],
   "source": [
    "average_fires_by_state = df.groupby('state')['number'].mean().sort_values(ascending=False)\n",
    "average_fires_by_state.plot(kind='bar')\n",
    "plt.xlabel('State')\n",
    "plt.ylabel('Average Number of Fires')\n",
    "plt.title('Average Number of Fires Reported by State (Highest to Lowest)')\n",
    "plt.show()\n"
   ]
  },
  {
   "cell_type": "markdown",
   "id": "8e4ee20c-0ae6-4eac-8a15-21b6168990bb",
   "metadata": {},
   "source": [
    "## Find the states where fires were reported in Dec month"
   ]
  },
  {
   "cell_type": "code",
   "execution_count": 36,
   "id": "4c3a83a3-8b87-4874-ad1d-35081253e137",
   "metadata": {
    "tags": []
   },
   "outputs": [
    {
     "name": "stdout",
     "output_type": "stream",
     "text": [
      "States where fires were reported in December: Acre, Alagoas, Amapa, Amazonas, Bahia, Ceara, Distrito Federal, Espirito Santo, Goias, Maranhao, Mato Grosso, Minas Gerais, Pará, Paraiba, Pernambuco, Piau, Rio, Rondonia, Roraima, Santa Catarina, Sao Paulo, Sergipe, Tocantins\n"
     ]
    }
   ],
   "source": [
    "december_states = df[df['month'] == 'December']['state'].unique()\n",
    "print(f'States where fires were reported in December: {\", \".join(december_states)}')\n"
   ]
  },
  {
   "cell_type": "markdown",
   "id": "e45a68d4-5ade-423f-a4f3-239fe05cbc0b",
   "metadata": {},
   "source": [
    "### CONCLUSION\n",
    "##### In this project, I conducted a thorough analysis of the Amazon Rainforest. The Analysis contained translation of month names from Portuguese to English, and several key insights into the dataset. The following findings and visualizations provide valuable information for understanding and addressing forest fires in this region:\n",
    "\n",
    "#### Month and Year with Maximum Fires:\n",
    "##### The analysis conducted on this question revealed that the month of September in the year 2008 had the highest number of reported forest fires. The total number of Forest fires for September was 998.\n",
    "\n",
    "#### States with Maximum Fires:\n",
    "##### Among the states in Brazil, Amazonas reported the maximum number of forest fires.\n",
    "\n",
    "#### Amazonas Analysis:\n",
    "##### From the analysis I did on the State nameed Amazonas, I found that a total of approximately 30650 forest fires were reported in Amazonas. I also found the total number of Forest Fires for each year in Amazonas and also Visualized the result.\n",
    "\n",
    "#### Fires in 2015:\n",
    "##### In the year 2015, a total of 41208 forest fires were reported after adding up the total of the forest fires of all the states in that year.\n",
    "\n",
    "#### State-wise Averages:\n",
    "##### I calculated and visualized the average number of fires reported by state. Sao Paulo with the value 213.896226 approximately 214 had the highest average, while Sergipe with the value 13.543933 approximately 14 had the lowest.\n",
    "\n",
    "#### Fires in December:\n",
    "##### I identified states where forest fires were reported in December.\n",
    "\n",
    "##### This analysis serves as a valuable resource for policymakers, environmental agencies, and local authorities to develop effective strategies for forest fire prevention and management. Understanding the temporal and spatial dynamics of forest fires is essential for preserving natural ecosystems and mitigating the environmental and ecological impacts of fires. Further research and collaboration are recommended to enhance fire prevention and emergency response efforts, ultimately contributing to the conservation of our environment and natural resources."
   ]
  },
  {
   "cell_type": "code",
   "execution_count": null,
   "id": "82b8c141-1cf1-4d91-b9c9-2fb5572aa993",
   "metadata": {},
   "outputs": [],
   "source": []
  }
 ],
 "metadata": {
  "kernelspec": {
   "display_name": "Python 3 (ipykernel)",
   "language": "python",
   "name": "python3"
  },
  "language_info": {
   "codemirror_mode": {
    "name": "ipython",
    "version": 3
   },
   "file_extension": ".py",
   "mimetype": "text/x-python",
   "name": "python",
   "nbconvert_exporter": "python",
   "pygments_lexer": "ipython3",
   "version": "3.11.5"
  }
 },
 "nbformat": 4,
 "nbformat_minor": 5
}
